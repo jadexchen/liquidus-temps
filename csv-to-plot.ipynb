{
 "cells": [
  {
   "cell_type": "markdown",
   "id": "63d01372",
   "metadata": {},
   "source": [
    "Enter the two element symbols in order. These inputs are case sensitive. For example:\n",
    "\n",
    "Enter element 1: Ag\n",
    "\n",
    "Enter element 2: Ce"
   ]
  },
  {
   "cell_type": "code",
   "execution_count": 5,
   "id": "36628de6",
   "metadata": {},
   "outputs": [
    {
     "name": "stdout",
     "output_type": "stream",
     "text": [
      "Enter element 1: Ag\n",
      "Enter element 2: Ce\n",
      "             Ag          Ce  Temperature\n",
      "0    100.000000    0.000000    1200.0000\n",
      "1    100.000000    0.000000     962.1900\n",
      "2     99.448187    0.551813     955.5470\n",
      "3     98.903100    1.096900     948.4960\n",
      "4     98.365140    1.634860     941.0330\n",
      "..          ...         ...          ...\n",
      "156    0.025600   99.974400      94.1545\n",
      "157    0.019100   99.980900     795.5400\n",
      "158    0.019100   99.980900     728.6370\n",
      "159    0.000000  100.000000      58.9965\n",
      "160    0.000000  100.000000    1200.0000\n",
      "\n",
      "[161 rows x 3 columns]\n"
     ]
    }
   ],
   "source": [
    "import pandas as pd\n",
    "import matplotlib.pyplot as plt\n",
    "\n",
    "element1 = input(\"Enter element 1: \")\n",
    "element2 = input(\"Enter element 2: \")\n",
    "\n",
    "df = pd.read_csv (r'%s%s.csv' % (element1, element2))\n",
    "print (df)\n"
   ]
  },
  {
   "cell_type": "code",
   "execution_count": 6,
   "id": "0d960661",
   "metadata": {},
   "outputs": [
    {
     "data": {
      "image/png": "[encoded data removed]",
      "text/plain": [
       "<Figure size 432x288 with 1 Axes>"
      ]
     },
     "metadata": {
      "needs_background": "light"
     },
     "output_type": "display_data"
    }
   ],
   "source": [
    "plt.scatter(df.loc[:,element2],df.loc[:,\"Temperature\"])\n",
    "plt.plot(df.loc[:,element2],df.loc[:,\"Temperature\"])\n",
    "plt.grid()\n",
    "plt.show()"
   ]
  }
 ],
 "metadata": {
  "kernelspec": {
   "display_name": "Python 3",
   "language": "python",
   "name": "python3"
  },
  "language_info": {
   "codemirror_mode": {
    "name": "ipython",
    "version": 3
   },
   "file_extension": ".py",
   "mimetype": "text/x-python",
   "name": "python",
   "nbconvert_exporter": "python",
   "pygments_lexer": "ipython3",
   "version": "3.8.8"
  }
 },
 "nbformat": 4,
 "nbformat_minor": 5
}
